{
 "cells": [
  {
   "cell_type": "code",
   "execution_count": 1,
   "metadata": {},
   "outputs": [],
   "source": [
    "\"\"\"run_cet.py\n",
    "wrapper for running crop et model\n",
    "called by user from command line\n",
    "\n",
    "TODO -\n",
    "    REMOVE HARDCODDED bin_ws AND READ FROM INI FILE\n",
    "    ADD COMMENTS TO DESCRIBE RUN FLAGS\n",
    "\n",
    "\"\"\"\n",
    "\n",
    "import argparse\n",
    "import multiprocessing as mp\n",
    "import os\n",
    "import subprocess\n",
    "import sys\n",
    "import tkinter as tk\n",
    "import tkinter.filedialog\n",
    "\n",
    "def main(ini_path, verbose_flag = False, mnid_to_run = 'ALL',\n",
    "        debug_flag = False, mp_procs = 1):\n",
    "    \"\"\"Wrapper for running reference ET model\n",
    "\n",
    "    Parameters\n",
    "    ---------\n",
    "    ini_path : str\n",
    "        absolute file path of the project INI file\n",
    "    verbose_flag : boolean\n",
    "        True : print info level comments\n",
    "        False\n",
    "    mnid_to_run :\n",
    "        Met node id to run in lieu of 'ALL'\n",
    "    debug_flag : boolean\n",
    "        True : write debug level comments to debug.txt\n",
    "        False\n",
    "    mp_procs : int\n",
    "        number of cores to use\n",
    "\n",
    "    Returns\n",
    "    -------\n",
    "    None\n",
    "\n",
    "    Notes\n",
    "    -----\n",
    "\n",
    "    \"\"\"\n",
    "\n",
    "    # print ini_path\n",
    "\n",
    "    bin_ws = r'..\\et-demands\\refET\\bin'\n",
    "\n",
    "    # Reference et python function\n",
    "\n",
    "    script_path = os.path.join(bin_ws, 'mod_ref_et.py')\n",
    "    print (script_path)\n",
    "\n",
    "    # Check input folder/path\n",
    "\n",
    "    if not os.path.isfile(ini_path):\n",
    "        print('Reference ET configuration file does not exist\\n  %s' % (ini_path))\n",
    "        sys.exit()\n",
    "    elif not os.path.isdir(bin_ws):\n",
    "        print('Code workspace does not exist\\n  %s' % (bin_ws))\n",
    "        sys.exit()\n",
    "    elif not os.path.isfile(script_path):\n",
    "        print('Referemce ET main script does not exist\\n  %s' % (script_path))\n",
    "        sys.exit()\n",
    "\n",
    "    # Run Area ET Demands Model\n",
    "\n",
    "    args_list = ['python', script_path, '-i', ini_path]\n",
    "    args_list.append('-m')\n",
    "    args_list.append(mnid_to_run)\n",
    "    if debug_flag:\n",
    "        args_list.append('-d')\n",
    "    if verbose_flag:\n",
    "        args_list.append('-v')\n",
    "    if mp_procs > 1:\n",
    "        args_list.extend(['-mp', str(mp_procs)])\n",
    "    # print \"command line is \"\n",
    "    print (args_list)\n",
    "    subprocess.call(args_list)\n",
    "\n",
    "def parse_args():\n",
    "    \"\"\"initialize parser\n",
    "\n",
    "    Parameters\n",
    "    ---------\n",
    "    None\n",
    "\n",
    "    Returns\n",
    "    -------\n",
    "    args : argparser.parse_args method\n",
    "\n",
    "\n",
    "    Notes\n",
    "    -----\n",
    "    Uses the argparse module\n",
    "\n",
    "    \"\"\"\n",
    "\n",
    "    parser = argparse.ArgumentParser(\n",
    "        description='Reference ET',\n",
    "        formatter_class=argparse.ArgumentDefaultsHelpFormatter)\n",
    "    parser.add_argument(\n",
    "        '-i', '--ini', metavar='PATH',\n",
    "        type = lambda x: is_valid_file(parser, x), help = 'Input file')\n",
    "    parser.add_argument(\n",
    "        '-d', '--debug', action = \"store_true\", default = False,\n",
    "        help = \"Save debug level comments to debug.txt\")\n",
    "    parser.add_argument(\n",
    "        '-m', '--metid', metavar='mnid_to_run', default = 'ALL',\n",
    "        help = \"User specified met id to run\")\n",
    "    parser.add_argument(\n",
    "        '-v', '--verbose', action = \"store_true\", default = False,\n",
    "        help = \"Print info level comments\")\n",
    "    parser.add_argument(\n",
    "        '-mp', '--multiprocessing', default=1, type=int,\n",
    "        metavar = 'N', nargs = '?', const = mp.cpu_count(),\n",
    "        help = 'Number of processers to use')\n",
    "    args = parser.parse_args()\n",
    "\n",
    "    # Convert INI path to an absolute path if necessary\n",
    "\n",
    "    if args.ini and os.path.isfile(os.path.abspath(args.ini)):\n",
    "        args.ini = os.path.abspath(args.ini)\n",
    "    # print \"\\nargs are\\n\", args, \"\\n\"\n",
    "    return args\n",
    "\n",
    "def get_ini_path(workspace):\n",
    "    \"\"\"parses user-entered ini_path\n",
    "\n",
    "    Parameters\n",
    "    ---------\n",
    "    workspace :\n",
    "\n",
    "\n",
    "    Returns\n",
    "    -------\n",
    "    ini_path : str\n",
    "        absolute file path of INI file\n",
    "\n",
    "    Notes\n",
    "    -----\n",
    "    Uses tkinter and tkinter.filedialog modules\n",
    "    Updated syntax and packages for Python 3.x\n",
    "\n",
    "    \"\"\"\n",
    "\n",
    "    root = tk.Tk()\n",
    "    ini_path = tkinter.filedialog.askopenfilename(\n",
    "        initialdir=workspace, parent=root, filetypes=[('INI files', '.ini')],\n",
    "        title='Select the target INI file')\n",
    "    root.destroy()\n",
    "    return ini_path\n",
    "\n",
    "def is_valid_file(parser, arg):\n",
    "    \"\"\"checks if file is valid\n",
    "    Parameters\n",
    "    ---------\n",
    "    parser : argparse.ArgumentParser instance\n",
    "\n",
    "    arg : str\n",
    "        absolute file path\n",
    "\n",
    "    Returns\n",
    "    -------\n",
    "    args : argparser.parse_args method\n",
    "\n",
    "\n",
    "    Notes\n",
    "    -----\n",
    "    Uses the argparse module\n",
    "    Also defined in mod_ref_et.py\n",
    "\n",
    "    \"\"\"\n",
    "\n",
    "    if not os.path.isfile(arg):\n",
    "        parser.error('The file {} does not exist!'.format(arg))\n",
    "    else:\n",
    "        return arg\n",
    "\n",
    "def is_valid_directory(parser, arg):\n",
    "    \"\"\"checks if directory is valid\n",
    "\n",
    "    Parameters\n",
    "    ---------\n",
    "    parser : argparse.ArgumentParser instance\n",
    "\n",
    "    arg : str\n",
    "        absolute directory path\n",
    "\n",
    "    Returns\n",
    "    -------\n",
    "    args : argparser.parse_args method\n",
    "\n",
    "\n",
    "    Notes\n",
    "    -----\n",
    "    Uses the argparse module\n",
    "    Also defined in mod_ref_et.py\n",
    "\n",
    "    \"\"\"\n",
    "\n",
    "    if not os.path.isdir(arg):\n",
    "        parser.error('The directory {} does not exist!'.format(arg))\n",
    "    else:\n",
    "        return arg\n",
    "\n",
    "\n"
   ]
  },
  {
   "cell_type": "code",
   "execution_count": 5,
   "metadata": {},
   "outputs": [],
   "source": [
    "ini_path = 'examples/upperred/run_ret.py'"
   ]
  },
  {
   "cell_type": "code",
   "execution_count": 6,
   "metadata": {},
   "outputs": [],
   "source": [
    "verbose_flag = False\n",
    "mnid_to_run = 'ALL'\n",
    "debug_flag = False\n",
    "mp_procs = 1"
   ]
  },
  {
   "cell_type": "code",
   "execution_count": 8,
   "metadata": {},
   "outputs": [
    {
     "name": "stdout",
     "output_type": "stream",
     "text": [
      "..\\et-demands\\refET\\bin\\mod_ref_et.py\n",
      "Code workspace does not exist\n",
      "  ..\\et-demands\\refET\\bin\n"
     ]
    },
    {
     "ename": "SystemExit",
     "evalue": "",
     "output_type": "error",
     "traceback": [
      "An exception has occurred, use %tb to see the full traceback.\n",
      "\u001b[1;31mSystemExit\u001b[0m\n"
     ]
    }
   ],
   "source": [
    "main(ini_path)"
   ]
  },
  {
   "cell_type": "code",
   "execution_count": 2,
   "metadata": {},
   "outputs": [
    {
     "name": "stderr",
     "output_type": "stream",
     "text": [
      "usage: ipykernel_launcher.py [-h] [-i PATH] [-d] [-m mnid_to_run] [-v]\n",
      "                             [-mp [N]]\n",
      "ipykernel_launcher.py: error: unrecognized arguments: -f C:\\Users\\dbroman\\AppData\\Roaming\\jupyter\\runtime\\kernel-c0bbf3b7-a0e3-4321-a5a8-24d17ea41e0a.json\n"
     ]
    },
    {
     "ename": "SystemExit",
     "evalue": "2",
     "output_type": "error",
     "traceback": [
      "An exception has occurred, use %tb to see the full traceback.\n",
      "\u001b[1;31mSystemExit\u001b[0m\u001b[1;31m:\u001b[0m 2\n"
     ]
    },
    {
     "name": "stderr",
     "output_type": "stream",
     "text": [
      "C:\\Programs\\Continuum\\anaconda3\\envs\\etdemands\\lib\\site-packages\\IPython\\core\\interactiveshell.py:3304: UserWarning: To exit: use 'exit', 'quit', or Ctrl-D.\n",
      "  warn(\"To exit: use 'exit', 'quit', or Ctrl-D.\", stacklevel=1)\n"
     ]
    }
   ],
   "source": [
    "if __name__ == '__main__':\n",
    "    args = parse_args()\n",
    "    if args.ini:\n",
    "        ini_path = args.ini\n",
    "    else:\n",
    "        ini_path = get_ini_path(os.getcwd())\n",
    "    main(ini_path, verbose_flag = args.verbose, mnid_to_run = args.metid,\n",
    "        debug_flag = args.debug, mp_procs = args.multiprocessing)"
   ]
  },
  {
   "cell_type": "code",
   "execution_count": 3,
   "metadata": {},
   "outputs": [
    {
     "ename": "SystemExit",
     "evalue": "2",
     "output_type": "error",
     "traceback": [
      "\u001b[1;31m---------------------------------------------------------------------------\u001b[0m",
      "\u001b[1;31mSystemExit\u001b[0m                                Traceback (most recent call last)",
      "\u001b[1;32m<ipython-input-2-a54f606af25d>\u001b[0m in \u001b[0;36m<module>\u001b[1;34m\u001b[0m\n\u001b[0;32m      1\u001b[0m \u001b[1;32mif\u001b[0m \u001b[0m__name__\u001b[0m \u001b[1;33m==\u001b[0m \u001b[1;34m'__main__'\u001b[0m\u001b[1;33m:\u001b[0m\u001b[1;33m\u001b[0m\u001b[0m\n\u001b[1;32m----> 2\u001b[1;33m     \u001b[0margs\u001b[0m \u001b[1;33m=\u001b[0m \u001b[0mparse_args\u001b[0m\u001b[1;33m(\u001b[0m\u001b[1;33m)\u001b[0m\u001b[1;33m\u001b[0m\u001b[0m\n\u001b[0m\u001b[0;32m      3\u001b[0m     \u001b[1;32mif\u001b[0m \u001b[0margs\u001b[0m\u001b[1;33m.\u001b[0m\u001b[0mini\u001b[0m\u001b[1;33m:\u001b[0m\u001b[1;33m\u001b[0m\u001b[0m\n\u001b[0;32m      4\u001b[0m         \u001b[0mini_path\u001b[0m \u001b[1;33m=\u001b[0m \u001b[0margs\u001b[0m\u001b[1;33m.\u001b[0m\u001b[0mini\u001b[0m\u001b[1;33m\u001b[0m\u001b[0m\n\u001b[0;32m      5\u001b[0m     \u001b[1;32melse\u001b[0m\u001b[1;33m:\u001b[0m\u001b[1;33m\u001b[0m\u001b[0m\n",
      "\u001b[1;32m<ipython-input-1-93606150df31>\u001b[0m in \u001b[0;36mparse_args\u001b[1;34m()\u001b[0m\n\u001b[0;32m    118\u001b[0m         \u001b[0mmetavar\u001b[0m \u001b[1;33m=\u001b[0m \u001b[1;34m'N'\u001b[0m\u001b[1;33m,\u001b[0m \u001b[0mnargs\u001b[0m \u001b[1;33m=\u001b[0m \u001b[1;34m'?'\u001b[0m\u001b[1;33m,\u001b[0m \u001b[0mconst\u001b[0m \u001b[1;33m=\u001b[0m \u001b[0mmp\u001b[0m\u001b[1;33m.\u001b[0m\u001b[0mcpu_count\u001b[0m\u001b[1;33m(\u001b[0m\u001b[1;33m)\u001b[0m\u001b[1;33m,\u001b[0m\u001b[1;33m\u001b[0m\u001b[0m\n\u001b[0;32m    119\u001b[0m         help = 'Number of processers to use')\n\u001b[1;32m--> 120\u001b[1;33m     \u001b[0margs\u001b[0m \u001b[1;33m=\u001b[0m \u001b[0mparser\u001b[0m\u001b[1;33m.\u001b[0m\u001b[0mparse_args\u001b[0m\u001b[1;33m(\u001b[0m\u001b[1;33m)\u001b[0m\u001b[1;33m\u001b[0m\u001b[0m\n\u001b[0m\u001b[0;32m    121\u001b[0m \u001b[1;33m\u001b[0m\u001b[0m\n\u001b[0;32m    122\u001b[0m     \u001b[1;31m# Convert INI path to an absolute path if necessary\u001b[0m\u001b[1;33m\u001b[0m\u001b[1;33m\u001b[0m\u001b[0m\n",
      "\u001b[1;32mC:\\Programs\\Continuum\\anaconda3\\envs\\etdemands\\lib\\argparse.py\u001b[0m in \u001b[0;36mparse_args\u001b[1;34m(self, args, namespace)\u001b[0m\n\u001b[0;32m   1735\u001b[0m         \u001b[1;32mif\u001b[0m \u001b[0margv\u001b[0m\u001b[1;33m:\u001b[0m\u001b[1;33m\u001b[0m\u001b[0m\n\u001b[0;32m   1736\u001b[0m             \u001b[0mmsg\u001b[0m \u001b[1;33m=\u001b[0m \u001b[0m_\u001b[0m\u001b[1;33m(\u001b[0m\u001b[1;34m'unrecognized arguments: %s'\u001b[0m\u001b[1;33m)\u001b[0m\u001b[1;33m\u001b[0m\u001b[0m\n\u001b[1;32m-> 1737\u001b[1;33m             \u001b[0mself\u001b[0m\u001b[1;33m.\u001b[0m\u001b[0merror\u001b[0m\u001b[1;33m(\u001b[0m\u001b[0mmsg\u001b[0m \u001b[1;33m%\u001b[0m \u001b[1;34m' '\u001b[0m\u001b[1;33m.\u001b[0m\u001b[0mjoin\u001b[0m\u001b[1;33m(\u001b[0m\u001b[0margv\u001b[0m\u001b[1;33m)\u001b[0m\u001b[1;33m)\u001b[0m\u001b[1;33m\u001b[0m\u001b[0m\n\u001b[0m\u001b[0;32m   1738\u001b[0m         \u001b[1;32mreturn\u001b[0m \u001b[0margs\u001b[0m\u001b[1;33m\u001b[0m\u001b[0m\n\u001b[0;32m   1739\u001b[0m \u001b[1;33m\u001b[0m\u001b[0m\n",
      "\u001b[1;32mC:\\Programs\\Continuum\\anaconda3\\envs\\etdemands\\lib\\argparse.py\u001b[0m in \u001b[0;36merror\u001b[1;34m(self, message)\u001b[0m\n\u001b[0;32m   2391\u001b[0m         \u001b[0mself\u001b[0m\u001b[1;33m.\u001b[0m\u001b[0mprint_usage\u001b[0m\u001b[1;33m(\u001b[0m\u001b[0m_sys\u001b[0m\u001b[1;33m.\u001b[0m\u001b[0mstderr\u001b[0m\u001b[1;33m)\u001b[0m\u001b[1;33m\u001b[0m\u001b[0m\n\u001b[0;32m   2392\u001b[0m         \u001b[0margs\u001b[0m \u001b[1;33m=\u001b[0m \u001b[1;33m{\u001b[0m\u001b[1;34m'prog'\u001b[0m\u001b[1;33m:\u001b[0m \u001b[0mself\u001b[0m\u001b[1;33m.\u001b[0m\u001b[0mprog\u001b[0m\u001b[1;33m,\u001b[0m \u001b[1;34m'message'\u001b[0m\u001b[1;33m:\u001b[0m \u001b[0mmessage\u001b[0m\u001b[1;33m}\u001b[0m\u001b[1;33m\u001b[0m\u001b[0m\n\u001b[1;32m-> 2393\u001b[1;33m         \u001b[0mself\u001b[0m\u001b[1;33m.\u001b[0m\u001b[0mexit\u001b[0m\u001b[1;33m(\u001b[0m\u001b[1;36m2\u001b[0m\u001b[1;33m,\u001b[0m \u001b[0m_\u001b[0m\u001b[1;33m(\u001b[0m\u001b[1;34m'%(prog)s: error: %(message)s\\n'\u001b[0m\u001b[1;33m)\u001b[0m \u001b[1;33m%\u001b[0m \u001b[0margs\u001b[0m\u001b[1;33m)\u001b[0m\u001b[1;33m\u001b[0m\u001b[0m\n\u001b[0m",
      "\u001b[1;32mC:\\Programs\\Continuum\\anaconda3\\envs\\etdemands\\lib\\argparse.py\u001b[0m in \u001b[0;36mexit\u001b[1;34m(self, status, message)\u001b[0m\n\u001b[0;32m   2378\u001b[0m         \u001b[1;32mif\u001b[0m \u001b[0mmessage\u001b[0m\u001b[1;33m:\u001b[0m\u001b[1;33m\u001b[0m\u001b[0m\n\u001b[0;32m   2379\u001b[0m             \u001b[0mself\u001b[0m\u001b[1;33m.\u001b[0m\u001b[0m_print_message\u001b[0m\u001b[1;33m(\u001b[0m\u001b[0mmessage\u001b[0m\u001b[1;33m,\u001b[0m \u001b[0m_sys\u001b[0m\u001b[1;33m.\u001b[0m\u001b[0mstderr\u001b[0m\u001b[1;33m)\u001b[0m\u001b[1;33m\u001b[0m\u001b[0m\n\u001b[1;32m-> 2380\u001b[1;33m         \u001b[0m_sys\u001b[0m\u001b[1;33m.\u001b[0m\u001b[0mexit\u001b[0m\u001b[1;33m(\u001b[0m\u001b[0mstatus\u001b[0m\u001b[1;33m)\u001b[0m\u001b[1;33m\u001b[0m\u001b[0m\n\u001b[0m\u001b[0;32m   2381\u001b[0m \u001b[1;33m\u001b[0m\u001b[0m\n\u001b[0;32m   2382\u001b[0m     \u001b[1;32mdef\u001b[0m \u001b[0merror\u001b[0m\u001b[1;33m(\u001b[0m\u001b[0mself\u001b[0m\u001b[1;33m,\u001b[0m \u001b[0mmessage\u001b[0m\u001b[1;33m)\u001b[0m\u001b[1;33m:\u001b[0m\u001b[1;33m\u001b[0m\u001b[0m\n",
      "\u001b[1;31mSystemExit\u001b[0m: 2"
     ]
    }
   ],
   "source": [
    "%tb"
   ]
  },
  {
   "cell_type": "code",
   "execution_count": 9,
   "metadata": {},
   "outputs": [
    {
     "ename": "NameError",
     "evalue": "name '__file__' is not defined",
     "output_type": "error",
     "traceback": [
      "\u001b[1;31m---------------------------------------------------------------------------\u001b[0m",
      "\u001b[1;31mNameError\u001b[0m                                 Traceback (most recent call last)",
      "\u001b[1;32m<ipython-input-9-4a861d70fc38>\u001b[0m in \u001b[0;36m<module>\u001b[1;34m\u001b[0m\n\u001b[0;32m      1\u001b[0m \u001b[1;32mimport\u001b[0m \u001b[0mos\u001b[0m\u001b[1;33m\u001b[0m\u001b[0m\n\u001b[1;32m----> 2\u001b[1;33m \u001b[0mprint\u001b[0m\u001b[1;33m(\u001b[0m\u001b[0mos\u001b[0m\u001b[1;33m.\u001b[0m\u001b[0mpath\u001b[0m\u001b[1;33m.\u001b[0m\u001b[0mdirname\u001b[0m\u001b[1;33m(\u001b[0m\u001b[0mos\u001b[0m\u001b[1;33m.\u001b[0m\u001b[0mpath\u001b[0m\u001b[1;33m.\u001b[0m\u001b[0mrealpath\u001b[0m\u001b[1;33m(\u001b[0m\u001b[0m__file__\u001b[0m\u001b[1;33m)\u001b[0m\u001b[1;33m)\u001b[0m\u001b[1;33m)\u001b[0m\u001b[1;33m\u001b[0m\u001b[0m\n\u001b[0m",
      "\u001b[1;31mNameError\u001b[0m: name '__file__' is not defined"
     ]
    }
   ],
   "source": [
    "import os\n",
    "print(os.path.dirname(os.path.realpath(__file__)))"
   ]
  },
  {
   "cell_type": "code",
   "execution_count": null,
   "metadata": {},
   "outputs": [],
   "source": []
  }
 ],
 "metadata": {
  "kernelspec": {
   "display_name": "Python 3",
   "language": "python",
   "name": "python3"
  },
  "language_info": {
   "codemirror_mode": {
    "name": "ipython",
    "version": 3
   },
   "file_extension": ".py",
   "mimetype": "text/x-python",
   "name": "python",
   "nbconvert_exporter": "python",
   "pygments_lexer": "ipython3",
   "version": "3.6.6"
  }
 },
 "nbformat": 4,
 "nbformat_minor": 2
}
